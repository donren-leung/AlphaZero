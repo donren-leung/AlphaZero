{
 "cells": [
  {
   "cell_type": "code",
   "execution_count": 1,
   "metadata": {},
   "outputs": [
    {
     "data": {
      "text/plain": [
       "'2.2.3'"
      ]
     },
     "execution_count": 1,
     "metadata": {},
     "output_type": "execute_result"
    }
   ],
   "source": [
    "import numpy as np\n",
    "from numpy.typing import NDArray\n",
    "np.__version__"
   ]
  },
  {
   "cell_type": "code",
   "execution_count": 2,
   "metadata": {},
   "outputs": [],
   "source": [
    "type State = NDArray[np.int8]\n",
    "\n",
    "class TicTacToe:\n",
    "    def __init__(self):\n",
    "        self.row_count: int = 3\n",
    "        self.col_count: int = 3\n",
    "        self.action_size: int = self.row_count * self.col_count\n",
    "        self.board: State = self.get_initial_state()\n",
    "\n",
    "    def get_initial_state(self) -> State:\n",
    "        return np.zeros((self.row_count, self.col_count), dtype=np.int8)\n",
    "\n",
    "    def get_next_state(self, state: State, action: int, player: int) -> State:\n",
    "        row = action // self.col_count\n",
    "        col = action % self.col_count\n",
    "        state[row, col] = player\n",
    "        return state\n",
    "    \n",
    "    def get_valid_moves(self, state: State) -> NDArray[np.bool_]:\n",
    "        return (state.reshape(-1) == 0).astype(np.bool_)\n",
    "    \n",
    "    def check_win(self, state: State, action: int) -> bool:\n",
    "        row = action // self.col_count\n",
    "        col = action % self.col_count\n",
    "        player = state[row, col]\n",
    "    \n",
    "        return (\n",
    "            np.sum(state[row, :]) == player * self.col_count\n",
    "            or np.sum(state[:, col]) == player * self.row_count\n",
    "            or np.sum(np.diag(state)) == player * self.row_count\n",
    "            or np.sum(np.diag(np.fliplr(state))) == player * self.row_count\n",
    "        )\n",
    "    \n",
    "    def get_value_and_terminated(self, state: State, action: int):\n",
    "        if self.check_win(state, action):\n",
    "            return 1, True\n",
    "        elif not np.any(self.get_valid_moves(state)):\n",
    "            return 0, True\n",
    "        return 0, False\n",
    "    \n",
    "    def get_opponent(self, player):\n",
    "        return -player\n"
   ]
  },
  {
   "cell_type": "code",
   "execution_count": 3,
   "metadata": {},
   "outputs": [
    {
     "name": "stdout",
     "output_type": "stream",
     "text": [
      "[[0 0 0]\n",
      " [0 0 0]\n",
      " [0 0 0]]\n",
      "valid_moves [0, 1, 2, 3, 4, 5, 6, 7, 8]\n",
      "[[0 0 0]\n",
      " [0 1 0]\n",
      " [0 0 0]]\n",
      "valid_moves [0, 1, 2, 3, 5, 6, 7, 8]\n",
      "action not valid\n",
      "[[0 0 0]\n",
      " [0 1 0]\n",
      " [0 0 0]]\n",
      "valid_moves [0, 1, 2, 3, 5, 6, 7, 8]\n",
      "[[-1  0  0]\n",
      " [ 0  1  0]\n",
      " [ 0  0  0]]\n",
      "valid_moves [1, 2, 3, 5, 6, 7, 8]\n",
      "[[-1  1  0]\n",
      " [ 0  1  0]\n",
      " [ 0  0  0]]\n",
      "valid_moves [2, 3, 5, 6, 7, 8]\n",
      "[[-1  1 -1]\n",
      " [ 0  1  0]\n",
      " [ 0  0  0]]\n",
      "valid_moves [3, 5, 6, 7, 8]\n",
      "[[-1  1 -1]\n",
      " [ 0  1  0]\n",
      " [ 0  1  0]]\n",
      "1 won\n"
     ]
    }
   ],
   "source": [
    "ttt = TicTacToe()\n",
    "player = 1\n",
    "\n",
    "state = ttt.get_initial_state()\n",
    "\n",
    "while True:\n",
    "    print(state)\n",
    "    valid_moves = ttt.get_valid_moves(state)\n",
    "    print(\"valid_moves\", [i for i in range(ttt.action_size) if valid_moves[i] == 1])\n",
    "    try:\n",
    "        action = int(input(f\"{player}:\"))\n",
    "    except TypeError:\n",
    "        print(\"numbers only\")\n",
    "        continue\n",
    "\n",
    "    if valid_moves[action] == 0:\n",
    "        print(\"action not valid\")\n",
    "        continue\n",
    "\n",
    "    state = ttt.get_next_state(state, action, player)\n",
    "    value, terminated = ttt.get_value_and_terminated(state, action)\n",
    "\n",
    "    if terminated:\n",
    "        print(state)\n",
    "        if value == 1:\n",
    "            print(player, \"won\")\n",
    "        else:\n",
    "            print(\"draw\")\n",
    "        break\n",
    "    \n",
    "    player = ttt.get_opponent(player)\n"
   ]
  }
 ],
 "metadata": {
  "kernelspec": {
   "display_name": "tictactoe",
   "language": "python",
   "name": "python3"
  },
  "language_info": {
   "codemirror_mode": {
    "name": "ipython",
    "version": 3
   },
   "file_extension": ".py",
   "mimetype": "text/x-python",
   "name": "python",
   "nbconvert_exporter": "python",
   "pygments_lexer": "ipython3",
   "version": "3.13.2"
  }
 },
 "nbformat": 4,
 "nbformat_minor": 2
}
