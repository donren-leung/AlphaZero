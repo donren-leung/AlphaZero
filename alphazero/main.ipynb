{
 "cells": [
  {
   "cell_type": "code",
   "execution_count": 1,
   "metadata": {},
   "outputs": [
    {
     "data": {
      "text/plain": [
       "'2.2.3'"
      ]
     },
     "execution_count": 1,
     "metadata": {},
     "output_type": "execute_result"
    }
   ],
   "source": [
    "import numpy as np\n",
    "from TicTacToe import TicTacToeGame\n",
    "np.__version__"
   ]
  },
  {
   "cell_type": "code",
   "execution_count": 2,
   "metadata": {},
   "outputs": [
    {
     "name": "stdout",
     "output_type": "stream",
     "text": [
      "[[0 0 0]\n",
      " [0 0 0]\n",
      " [0 0 0]]\n",
      "valid_moves [0, 1, 2, 3, 4, 5, 6, 7, 8]\n",
      "[[0 0 0]\n",
      " [0 1 0]\n",
      " [0 0 0]]\n",
      "valid_moves [0, 1, 2, 3, 5, 6, 7, 8]\n",
      "action not valid\n",
      "[[0 0 0]\n",
      " [0 1 0]\n",
      " [0 0 0]]\n",
      "valid_moves [0, 1, 2, 3, 5, 6, 7, 8]\n",
      "[[-1  0  0]\n",
      " [ 0  1  0]\n",
      " [ 0  0  0]]\n",
      "valid_moves [1, 2, 3, 5, 6, 7, 8]\n",
      "[[-1  0  1]\n",
      " [ 0  1  0]\n",
      " [ 0  0  0]]\n",
      "valid_moves [1, 3, 5, 6, 7, 8]\n",
      "[[-1 -1  1]\n",
      " [ 0  1  0]\n",
      " [ 0  0  0]]\n",
      "valid_moves [3, 5, 6, 7, 8]\n",
      "[[-1 -1  1]\n",
      " [ 0  1  0]\n",
      " [ 1  0  0]]\n",
      "1 won\n"
     ]
    }
   ],
   "source": [
    "game = TicTacToeGame()\n",
    "player = 1\n",
    "\n",
    "while True:\n",
    "    print(game, flush=True)\n",
    "    valid_moves = game.get_valid_moves()\n",
    "    print(\"valid_moves\", [i for i in range(game.action_size) if valid_moves[i] == 1])\n",
    "    try:\n",
    "        response = input(f\"{player}:\").strip()\n",
    "        action = int(response)\n",
    "    except ValueError:\n",
    "        if response == \"q\" or \"\":\n",
    "            break\n",
    "        print(f\"Your input: {response} (numbers only). Press q to quit.\")\n",
    "        continue\n",
    "    except EOFError:\n",
    "        break\n",
    "\n",
    "    if valid_moves[action] == 0:\n",
    "        print(\"action not valid\")\n",
    "        continue\n",
    "\n",
    "    game.make_move(action, player)\n",
    "    value, terminated = game.get_value_and_terminated(action)\n",
    "\n",
    "    if terminated:\n",
    "        print(game)\n",
    "        if value == 1:\n",
    "            print(player, \"won\")\n",
    "        else:\n",
    "            print(\"draw\")\n",
    "        break\n",
    "    \n",
    "    player = game.get_opponent(player)\n"
   ]
  }
 ],
 "metadata": {
  "kernelspec": {
   "display_name": "tictactoe",
   "language": "python",
   "name": "python3"
  },
  "language_info": {
   "codemirror_mode": {
    "name": "ipython",
    "version": 3
   },
   "file_extension": ".py",
   "mimetype": "text/x-python",
   "name": "python",
   "nbconvert_exporter": "python",
   "pygments_lexer": "ipython3",
   "version": "3.13.2"
  }
 },
 "nbformat": 4,
 "nbformat_minor": 2
}
